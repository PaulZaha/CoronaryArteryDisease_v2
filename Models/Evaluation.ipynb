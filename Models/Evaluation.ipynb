{
 "cells": [
  {
   "cell_type": "code",
   "execution_count": 2,
   "metadata": {},
   "outputs": [
    {
     "name": "stdout",
     "output_type": "stream",
     "text": [
      "WARNING:tensorflow:From c:\\Users\\paulz\\AppData\\Local\\Programs\\Python\\Python311\\Lib\\site-packages\\keras\\src\\losses.py:2976: The name tf.losses.sparse_softmax_cross_entropy is deprecated. Please use tf.compat.v1.losses.sparse_softmax_cross_entropy instead.\n",
      "\n",
      "C:\\Users\\paulz\\Documents\\CoronaryArteryDisease_v2\n"
     ]
    }
   ],
   "source": [
    "import os\n",
    "import numpy as np\n",
    "from PIL import Image\n",
    "import cv2\n",
    "import math\n",
    "import matplotlib.pyplot as plt\n",
    "import matplotlib.image as mpimg\n",
    "import re\n",
    "\n",
    "from Predictor import *\n",
    "\n",
    "default_path = 'C:/Users/paulz/Documents/CoronaryArteryDisease_v2'\n",
    "\n",
    "os.chdir(default_path)\n",
    "print(os.getcwd())"
   ]
  },
  {
   "cell_type": "code",
   "execution_count": 3,
   "metadata": {},
   "outputs": [],
   "source": [
    "#Alphanumerical sorting \n",
    "def natural_sort_key(s):\n",
    "    return [int(text) if text.isdigit() else text.lower() for text in re.split(r'(\\d+)', s)]"
   ]
  },
  {
   "cell_type": "code",
   "execution_count": 7,
   "metadata": {},
   "outputs": [],
   "source": [
    "def evaluation(images_type,size):\n",
    "    f1_list = []\n",
    "    tp_list = []\n",
    "\n",
    "    img_dir = os.path.join(os.getcwd(), 'Dataset', 'arcade', 'stenosis', 'test', 'images', 'img')\n",
    "    img_files = sorted(os.listdir(img_dir), key=natural_sort_key)\n",
    "\n",
    "    for name in img_files:\n",
    "                                        #,'Dataset','arcade','stenosis','test','images','img')):\n",
    "        true_mask_path = os.path.join(os.getcwd(),'Dataset','arcade','stenosis','test',images_type,'img',name)\n",
    "        true_mask = img_to_array('masks',name,size)\n",
    "        #print(true_mask)\n",
    "        true_mask = np.where(true_mask>=0.5,1,true_mask)\n",
    "        true_mask = np.where(true_mask<0.5,0,true_mask)\n",
    "        \n",
    "        pred_name = name[:-4] + '_pred.jpg'\n",
    "        pred_mask = img_to_array('predictions_'+images_type,pred_name,size)\n",
    "        pred_mask = np.where(pred_mask>=0.5,1,pred_mask)\n",
    "        pred_mask = np.where(pred_mask<0.5,0,pred_mask)\n",
    "\n",
    "        f1 = f1score(true_mask,pred_mask)\n",
    "        f1_list.append(f1)\n",
    "    f1_arr = np.array(f1_list)\n",
    "    \n",
    "    nan_mask = np.isnan(f1_arr)\n",
    "    f1_arr[nan_mask] = 0\n",
    "    \n",
    "    \n",
    "    return f1_arr"
   ]
  },
  {
   "cell_type": "code",
   "execution_count": 8,
   "metadata": {},
   "outputs": [],
   "source": [
    "def f1score(y_true,y_pred):\n",
    "    \"\"\"\n",
    "    computes f1 score between true and predicted masks\n",
    "    \"\"\"\n",
    "    \n",
    "    #compute true positive rate\n",
    "    TP = np.sum(y_true*y_pred)\n",
    "    #compute precision\n",
    "    precision = TP/(np.sum(y_pred)+1e-7)\n",
    "\n",
    "    #compute recall\n",
    "    recall = TP/(np.sum(y_true)+1e-7)\n",
    "    \n",
    "    #compute f1 from precision and recall\n",
    "    f1 = (2*precision*recall)/(precision+recall)\n",
    "\n",
    "    return f1"
   ]
  },
  {
   "cell_type": "code",
   "execution_count": 9,
   "metadata": {},
   "outputs": [
    {
     "name": "stderr",
     "output_type": "stream",
     "text": [
      "C:\\Users\\paulz\\AppData\\Local\\Temp\\ipykernel_11888\\1823143704.py:15: RuntimeWarning: invalid value encountered in scalar divide\n",
      "  f1 = (2*precision*recall)/(precision+recall)\n"
     ]
    }
   ],
   "source": [
    "size = (512,512)\n",
    "f1_array_images = evaluation('images',size)\n",
    "\n",
    "f1_array_kirsch = evaluation('images_kirsch',size)\n",
    "f1_array_prewitt = evaluation('images_prewitt',size)\n",
    "f1_array_sobel = evaluation('images_sobel',size)"
   ]
  },
  {
   "cell_type": "code",
   "execution_count": 10,
   "metadata": {},
   "outputs": [
    {
     "name": "stdout",
     "output_type": "stream",
     "text": [
      "Mean F1 Images:\n",
      "0.27845050961781465\n",
      "Mean F1 Kirsch:\n",
      "0.29458557493440174\n",
      "Mean F1 Prewitt:\n",
      "0.2531162193535607\n",
      "Mean F1 Sobel:\n",
      "0.2474583252468626\n"
     ]
    }
   ],
   "source": [
    "mean_f1_images = np.mean(f1_array_images)\n",
    "print(\"Mean F1 Images:\")\n",
    "print(mean_f1_images)\n",
    "\n",
    "mean_f1_kirsch = np.mean(f1_array_kirsch)\n",
    "print(\"Mean F1 Kirsch:\")\n",
    "print(mean_f1_kirsch)\n",
    "\n",
    "mean_f1_prewitt = np.mean(f1_array_prewitt)\n",
    "print(\"Mean F1 Prewitt:\")\n",
    "print(mean_f1_prewitt)\n",
    "\n",
    "mean_f1_sobel = np.mean(f1_array_sobel)\n",
    "print(\"Mean F1 Sobel:\")\n",
    "print(mean_f1_sobel)"
   ]
  },
  {
   "cell_type": "code",
   "execution_count": 11,
   "metadata": {},
   "outputs": [],
   "source": [
    "def histogram(array,name):\n",
    "    plt.hist(array,bins=50,color='blue',edgecolor='black')\n",
    "\n",
    "    plt.xlabel(\"F1 Score\")\n",
    "    plt.ylabel('Number of images')\n",
    "    plt.title('Histogram ' + name)\n"
   ]
  },
  {
   "cell_type": "code",
   "execution_count": null,
   "metadata": {},
   "outputs": [],
   "source": [
    "histogram(f1_array_images, 'Images')"
   ]
  },
  {
   "cell_type": "code",
   "execution_count": null,
   "metadata": {},
   "outputs": [],
   "source": [
    "histogram(f1_array_kirsch, 'Kirsch')"
   ]
  },
  {
   "cell_type": "code",
   "execution_count": null,
   "metadata": {},
   "outputs": [],
   "source": [
    "histogram(f1_array_prewitt, 'Prewitt')"
   ]
  },
  {
   "cell_type": "code",
   "execution_count": null,
   "metadata": {},
   "outputs": [],
   "source": [
    "histogram(f1_array_sobel, 'Sobel')"
   ]
  },
  {
   "cell_type": "code",
   "execution_count": 195,
   "metadata": {},
   "outputs": [
    {
     "name": "stdout",
     "output_type": "stream",
     "text": [
      "0.12751333423851227\n",
      "0.21067298735669313\n",
      "0.30636933776937264\n"
     ]
    }
   ],
   "source": [
    "#Quartilsabstände\n",
    "\n",
    "Q1_images = np.percentile(f1_array_images,25)\n",
    "print(Q1_images)\n",
    "Q2_images = np.percentile(f1_array_images,50)\n",
    "print(Q2_images)\n",
    "Q3_images = np.percentile(f1_array_images,75)\n",
    "print(Q3_images)"
   ]
  },
  {
   "cell_type": "code",
   "execution_count": 114,
   "metadata": {},
   "outputs": [
    {
     "name": "stdout",
     "output_type": "stream",
     "text": [
      "0.14436851971031145\n",
      "0.22230491721411866\n",
      "0.327990779398541\n"
     ]
    }
   ],
   "source": [
    "#Quartilsabstände\n",
    "\n",
    "Q1_Kirsch = np.percentile(f1_array_kirsch,25)\n",
    "print(Q1_Kirsch)\n",
    "Q2_Kirsch = np.percentile(f1_array_kirsch,50)\n",
    "print(Q2_Kirsch)\n",
    "Q3_Kirsch = np.percentile(f1_array_kirsch,75)\n",
    "print(Q3_Kirsch)"
   ]
  },
  {
   "cell_type": "code",
   "execution_count": 115,
   "metadata": {},
   "outputs": [
    {
     "name": "stdout",
     "output_type": "stream",
     "text": [
      "0.11436395627915102\n",
      "0.1917097144579457\n",
      "0.27525590624065444\n"
     ]
    }
   ],
   "source": [
    "#Quartilsabstände\n",
    "\n",
    "Q1_Prewitt = np.percentile(f1_array_prewitt,25)\n",
    "print(Q1_Prewitt)\n",
    "Q2_Prewitt = np.percentile(f1_array_prewitt,50)\n",
    "print(Q2_Prewitt)\n",
    "Q3_Prewitt = np.percentile(f1_array_prewitt,75)\n",
    "print(Q3_Prewitt)"
   ]
  },
  {
   "cell_type": "code",
   "execution_count": 116,
   "metadata": {},
   "outputs": [
    {
     "name": "stdout",
     "output_type": "stream",
     "text": [
      "0.11321367241374333\n",
      "0.18023293210103136\n",
      "0.2689933902545954\n"
     ]
    }
   ],
   "source": [
    "#Quartilsabstände\n",
    "\n",
    "Q1_Sobel = np.percentile(f1_array_sobel,25)\n",
    "print(Q1_Sobel)\n",
    "Q2_Sobel = np.percentile(f1_array_sobel,50)\n",
    "print(Q2_Sobel)\n",
    "Q3_Sobel = np.percentile(f1_array_sobel,75)\n",
    "print(Q3_Sobel)"
   ]
  },
  {
   "cell_type": "code",
   "execution_count": 12,
   "metadata": {},
   "outputs": [
    {
     "name": "stdout",
     "output_type": "stream",
     "text": [
      "[260 144  49  36  29  22 122  30 124  77 105 273  16 253   8 184 117  65\n",
      " 189  95 120 244  92 299 112 155 221  59 165 267  96 195  52 104 298  76\n",
      " 251 208 242 256  73 180  38  79 170  33 132 106  90 154 261  57  32 294\n",
      " 205  70  12 103 231  66  60 211 127 291 259 238  26 143 153 247 186 178\n",
      " 204  78 192  81 176  61  62 269 101  54 274  83 107  20 275 110  68  80\n",
      " 232 290 284 288  34 297  43 224  93 197 136 181 233 172 268 210  28 239\n",
      "  75 218 196  97 243 156  45  23 199 102 285 121 187 258 148 207 296  37\n",
      " 146  63 160 265 114  51 128  15  72 145 131 248 119 240 108 115   4  82\n",
      " 191 198  40 263  35 252 286 292 149 183 100 228  41 216  86  87 293 270\n",
      " 227  89  14 111 141 163  48 283  11  88 168 173 223  21  31 182 169   6\n",
      " 142 123   2 167  19 140   9  94 126 236 220 226 151   5 116 225 162 222\n",
      " 159 213 175  44 139 113 214  53 125  27 237   7 194  98 287 130 138  69\n",
      "  25 255 254  56 257 161 206  18 266  71 171  85 190  46 229 147 289 235\n",
      " 201 219 200 203 135  47 262 134  17 250 246 164 280  10  84 282  13 281\n",
      " 109 193  74 129  67 278 202 179 277 185 234 152 271 272 217 212  50  64\n",
      " 264  42 295  91  58 230 249 215 174 279  39 133 276  24 245 166  99 209\n",
      " 177 158 137 241 150 157   0   1 188  55   3 118]\n",
      "[-0.42797589 -0.39767036 -0.28165266 -0.26110405 -0.24756438 -0.24742341\n",
      " -0.24704775 -0.22539671 -0.22512564 -0.22452893 -0.22425797 -0.21712579\n",
      " -0.21712321 -0.21590533 -0.21349876 -0.21152916 -0.20919842 -0.20521766\n",
      " -0.20196712 -0.19519979 -0.19392095 -0.19124287 -0.18942221 -0.18655766\n",
      " -0.186423   -0.18323607 -0.18003858 -0.17831345 -0.1768829  -0.17653125\n",
      " -0.17375003 -0.17057312 -0.17002646 -0.16385721 -0.16211116 -0.16003189\n",
      " -0.15999173 -0.15773973 -0.15692872 -0.15595249 -0.1545148  -0.15432897\n",
      " -0.15336714 -0.15314209 -0.1512756  -0.14855701 -0.14386807 -0.14345191\n",
      " -0.13806138 -0.13626885 -0.13570887 -0.13438713 -0.1333722  -0.13330191\n",
      " -0.13301919 -0.13228756 -0.13074583 -0.12621714 -0.12620181 -0.12599145\n",
      " -0.12573066 -0.12558558 -0.12488811 -0.12444687 -0.12284975 -0.12277586\n",
      " -0.1225237  -0.12199808 -0.12178655 -0.12042818 -0.12031987 -0.11880589\n",
      " -0.11777344 -0.11774659 -0.11738198 -0.11731328 -0.11672719 -0.11307271\n",
      " -0.11297534 -0.11201904 -0.11131548 -0.11084647 -0.110407   -0.10994468\n",
      " -0.10948238 -0.1078359  -0.10775833 -0.10773578 -0.10773006 -0.10752375\n",
      " -0.10682536 -0.10586537 -0.10567067 -0.10484251 -0.10429999 -0.1037998\n",
      " -0.10355337 -0.10298124 -0.10243456 -0.10177979 -0.10124885 -0.10061578\n",
      " -0.09942236 -0.09921894 -0.09875477 -0.09857642 -0.09781793 -0.09698799\n",
      " -0.09625101 -0.0961483  -0.09557421 -0.09508742 -0.09360485 -0.09290669\n",
      " -0.09276691 -0.0926045  -0.09229685 -0.09129053 -0.09109685 -0.09073625\n",
      " -0.09065926 -0.09061151 -0.08976313 -0.08891712 -0.08871468 -0.08802368\n",
      " -0.08789112 -0.08774561 -0.08740338 -0.08609364 -0.085807   -0.08579898\n",
      " -0.08558    -0.08545124 -0.08533136 -0.08522336 -0.0844409  -0.08398656\n",
      " -0.08390282 -0.08363152 -0.08324786 -0.08309127 -0.08302463 -0.08298314\n",
      " -0.08174937 -0.08120827 -0.08073865 -0.08018487 -0.07980224 -0.07941505\n",
      " -0.07911879 -0.07868629 -0.07851454 -0.07838496 -0.07831612 -0.07829173\n",
      " -0.07801076 -0.07778673 -0.07756977 -0.07743555 -0.07729835 -0.0768808\n",
      " -0.07610513 -0.07588017 -0.07577543 -0.07492502 -0.07491071 -0.07467961\n",
      " -0.07450647 -0.07450132 -0.07448665 -0.07426403 -0.07388142 -0.07387881\n",
      " -0.07277673 -0.07252563 -0.07219544 -0.07184741 -0.07147866 -0.07095326\n",
      " -0.07026993 -0.07024046 -0.06991133 -0.06966865 -0.06946677 -0.06945944\n",
      " -0.06879331 -0.0686337  -0.06782124 -0.06752033 -0.06740163 -0.06734046\n",
      " -0.06720515 -0.06589588 -0.06557185 -0.0654028  -0.06538563 -0.06529489\n",
      " -0.06432652 -0.06409112 -0.0633138  -0.06331294 -0.06278494 -0.06277463\n",
      " -0.06263293 -0.06257905 -0.06172664 -0.06130929 -0.06063751 -0.06020795\n",
      " -0.06009083 -0.0585602  -0.05772803 -0.05768811 -0.05761405 -0.05713197\n",
      " -0.05657297 -0.05583327 -0.05546872 -0.05540172 -0.05533589 -0.05530142\n",
      " -0.05519659 -0.05434882 -0.05422965 -0.05394799 -0.05382801 -0.05090777\n",
      " -0.05065942 -0.0504783  -0.05032627 -0.04973833 -0.04965684 -0.04840384\n",
      " -0.04820433 -0.04806021 -0.04784853 -0.0477121  -0.04726024 -0.04636756\n",
      " -0.04599077 -0.04510944 -0.04500416 -0.04492609 -0.04470872 -0.04441155\n",
      " -0.04436651 -0.04410539 -0.0439904  -0.04376853 -0.04359275 -0.04353307\n",
      " -0.0433027  -0.04321967 -0.04228831 -0.04223731 -0.04200694 -0.0419997\n",
      " -0.04076357 -0.04029638 -0.03974876 -0.03955315 -0.0386512  -0.03724998\n",
      " -0.03646936 -0.03323131 -0.03256003 -0.03178807 -0.03066205 -0.03017057\n",
      " -0.03010106 -0.02957538 -0.02947117 -0.02892683 -0.02845333 -0.02799328\n",
      " -0.02798409 -0.02695962 -0.02643152 -0.02615048 -0.02553228 -0.02468322\n",
      " -0.02458384 -0.02337162 -0.02133529 -0.02090486 -0.0207193  -0.01937008\n",
      " -0.01765901 -0.0164635  -0.01557863 -0.01526454 -0.0149019  -0.01178735\n",
      " -0.011547   -0.01062839 -0.00901631 -0.00770437 -0.00678721 -0.00527679]\n"
     ]
    }
   ],
   "source": [
    "#Größte Unterschiede\n",
    "\n",
    "full_array = np.zeros(300)\n",
    "for i in range(len(f1_array_kirsch)):\n",
    "    distances = np.zeros(7)\n",
    "    distances[0] = np.abs(f1_array_images[i] - f1_array_kirsch[i])\n",
    "    distances[1] = np.abs(f1_array_images[i] - f1_array_prewitt[i])\n",
    "    distances[2] = np.abs(f1_array_images[i] - f1_array_sobel[i])\n",
    "\n",
    "    distances[3] = np.abs(f1_array_kirsch[i] - f1_array_prewitt[i])\n",
    "    distances[4] = np.abs(f1_array_kirsch[i] - f1_array_sobel[i])\n",
    "        \n",
    "    distances[5] = np.abs(f1_array_prewitt[i] - f1_array_sobel[i]) \n",
    "\n",
    "    distances[6] = i\n",
    "\n",
    "    \n",
    "    full_array[i] = np.max(distances[0:5])\n",
    "\n",
    "#sorted_array = np.sort(sorted_array)[::-1]\n",
    "print(np.argsort(-full_array))\n",
    "print(np.sort(-full_array))\n",
    "\n",
    "    "
   ]
  },
  {
   "cell_type": "code",
   "execution_count": 24,
   "metadata": {},
   "outputs": [
    {
     "name": "stdout",
     "output_type": "stream",
     "text": [
      "[274 181 156 277   3 279  35 236 180  23  17  19  25 211  26 237 232 230\n",
      " 123 257   7 224 288 225 291   4 223   8  33 276]\n",
      "[0.72131148 0.68482665 0.67619917 0.65244745 0.64111498 0.63291361\n",
      " 0.62102303 0.61628812 0.61592109 0.6036617  0.5971243  0.59535679\n",
      " 0.58238039 0.56838849 0.55928646 0.55401917 0.55052858 0.54624127\n",
      " 0.54261793 0.53545631 0.53081013 0.52917986 0.52857338 0.5274813\n",
      " 0.52570037 0.50398964 0.50383384 0.49783784 0.48826661 0.48451467]\n"
     ]
    }
   ],
   "source": [
    "#Get max values and image ids\n",
    "max_images = np.argsort(-f1_array_images)\n",
    "print(max_images[:30])\n",
    "print(f1_array_images[max_images[:30]])"
   ]
  },
  {
   "cell_type": "code",
   "execution_count": 25,
   "metadata": {},
   "outputs": [
    {
     "name": "stdout",
     "output_type": "stream",
     "text": [
      "[156 223 274 279 211  35   7 276 224 232   3 296 122   4 123 236  26  25\n",
      " 162 230 277 258  23  95  19 170 181 291  17  33]\n",
      "[0.70638064 0.69864954 0.69014304 0.67295433 0.66620642 0.66326034\n",
      " 0.65482062 0.64750329 0.62946708 0.62665263 0.62521447 0.62197067\n",
      " 0.61744795 0.61530512 0.60800808 0.60087349 0.59233963 0.58900261\n",
      " 0.58879298 0.58458213 0.57826918 0.57163891 0.5663132  0.56281148\n",
      " 0.56190901 0.55002996 0.54911779 0.54894366 0.54859491 0.54554487]\n"
     ]
    }
   ],
   "source": [
    "#Get max values and image ids\n",
    "max_kirsch = np.argsort(-f1_array_kirsch)\n",
    "print(max_kirsch[:30])\n",
    "print(f1_array_kirsch[max_kirsch[:30]])"
   ]
  },
  {
   "cell_type": "code",
   "execution_count": 26,
   "metadata": {},
   "outputs": [
    {
     "name": "stdout",
     "output_type": "stream",
     "text": [
      "[274 156 236 181  35 223  17   4 232  19 211 277   3 258  26 257  23 230\n",
      " 296 123 279   7 122 264  33 290 255  66 237 225]\n",
      "[0.78639406 0.734928   0.68161213 0.64995925 0.64804095 0.62012773\n",
      " 0.61136954 0.60998114 0.60364604 0.58290534 0.577614   0.56965505\n",
      " 0.56279886 0.55296984 0.55133871 0.54024988 0.52917505 0.52576541\n",
      " 0.52573361 0.52546869 0.51981223 0.51965977 0.51290948 0.5120817\n",
      " 0.5119108  0.49807553 0.48556612 0.47728709 0.47600841 0.47519483]\n"
     ]
    }
   ],
   "source": [
    "#Get max values and image ids\n",
    "max_prewitt = np.argsort(-f1_array_prewitt)\n",
    "print(max_prewitt[:30])\n",
    "print(f1_array_prewitt[max_prewitt[:30]])"
   ]
  },
  {
   "cell_type": "code",
   "execution_count": 27,
   "metadata": {},
   "outputs": [
    {
     "name": "stdout",
     "output_type": "stream",
     "text": [
      "[274  35 279 211 236 122 156  23   3   4 296 258  17 181 280 232 277 237\n",
      "  19 224 230  26 123 216   7 288 183  86 290 255]\n",
      "[0.73542111 0.64203774 0.63661593 0.63492598 0.62176166 0.6206717\n",
      " 0.61377614 0.60034423 0.59037929 0.58411598 0.58276413 0.58119501\n",
      " 0.57178386 0.56612486 0.56503447 0.53862894 0.53470085 0.52227313\n",
      " 0.51226551 0.50812779 0.5047799  0.50160338 0.50017218 0.49453586\n",
      " 0.49096341 0.48885336 0.47856483 0.46662536 0.46548177 0.46465328]\n"
     ]
    }
   ],
   "source": [
    "#Get max values and image ids\n",
    "max_sobel = np.argsort(-f1_array_sobel)\n",
    "print(max_sobel[:30])\n",
    "print(f1_array_sobel[max_sobel[:30]])"
   ]
  }
 ],
 "metadata": {
  "kernelspec": {
   "display_name": "Python 3",
   "language": "python",
   "name": "python3"
  },
  "language_info": {
   "codemirror_mode": {
    "name": "ipython",
    "version": 3
   },
   "file_extension": ".py",
   "mimetype": "text/x-python",
   "name": "python",
   "nbconvert_exporter": "python",
   "pygments_lexer": "ipython3",
   "version": "3.11.3"
  }
 },
 "nbformat": 4,
 "nbformat_minor": 2
}
