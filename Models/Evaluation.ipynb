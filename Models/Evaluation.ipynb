{
 "cells": [
  {
   "cell_type": "code",
   "execution_count": 4,
   "metadata": {},
   "outputs": [
    {
     "name": "stdout",
     "output_type": "stream",
     "text": [
      "WARNING:tensorflow:From c:\\Users\\paulz\\AppData\\Local\\Programs\\Python\\Python311\\Lib\\site-packages\\keras\\src\\losses.py:2976: The name tf.losses.sparse_softmax_cross_entropy is deprecated. Please use tf.compat.v1.losses.sparse_softmax_cross_entropy instead.\n",
      "\n",
      "C:\\Users\\paulz\\Documents\\CoronaryArteryDisease_v2\n"
     ]
    }
   ],
   "source": [
    "import os\n",
    "import numpy as np\n",
    "from PIL import Image\n",
    "import cv2\n",
    "import math\n",
    "import matplotlib.pyplot as plt\n",
    "import matplotlib.image as mpimg\n",
    "\n",
    "from Predictor import *\n",
    "\n",
    "default_path = 'C:/Users/paulz/Documents/CoronaryArteryDisease_v2'\n",
    "\n",
    "os.chdir(default_path)\n",
    "print(os.getcwd())"
   ]
  },
  {
   "cell_type": "code",
   "execution_count": 13,
   "metadata": {},
   "outputs": [],
   "source": [
    "def evaluation(images_type,size):\n",
    "    f1_list = []\n",
    "    tp_list = []\n",
    "    for name in os.listdir(os.path.join(os.getcwd(),'Dataset','arcade','stenosis','test','images','img')):\n",
    "                                        #,'Dataset','arcade','stenosis','test','images','img')):\n",
    "        true_mask_path = os.path.join(os.getcwd(),'Dataset','arcade','stenosis','test',images_type,'img',name)\n",
    "        true_mask = img_to_array('masks',name,size)\n",
    "        #print(true_mask)\n",
    "        true_mask = np.where(true_mask>=0.5,1,true_mask)\n",
    "        true_mask = np.where(true_mask<0.5,0,true_mask)\n",
    "        \n",
    "        pred_name = name[:-4] + '_pred.jpg'\n",
    "        pred_mask = img_to_array('predictions_'+images_type,pred_name,size)\n",
    "        pred_mask = np.where(pred_mask>=0.5,1,pred_mask)\n",
    "        pred_mask = np.where(pred_mask<0.5,0,pred_mask)\n",
    "\n",
    "        f1 = f1score(true_mask,pred_mask)\n",
    "        tp = classes(true_mask,pred_mask)\n",
    "        f1_list.append(f1)\n",
    "        tp_list.append(tp)\n",
    "    f1_arr = np.array(f1_list)\n",
    "    \n",
    "    nan_mask = np.isnan(f1_arr)\n",
    "    f1_arr[nan_mask] = 0\n",
    "    \n",
    "    \n",
    "    return f1_arr, tp_list"
   ]
  },
  {
   "cell_type": "code",
   "execution_count": 14,
   "metadata": {},
   "outputs": [],
   "source": [
    "def f1score(y_true,y_pred):\n",
    "    \"\"\"\n",
    "    computes f1 score between true and predicted masks\n",
    "    \"\"\"\n",
    "    \n",
    "    #compute true positive rate\n",
    "    TP = np.sum(y_true*y_pred)\n",
    "    #compute precision\n",
    "    precision = TP/(np.sum(y_pred)+1e-7)\n",
    "\n",
    "    #compute recall\n",
    "    recall = TP/(np.sum(y_true)+1e-7)\n",
    "    \n",
    "    #compute f1 from precision and recall\n",
    "    f1 = (2*precision*recall)/(precision+recall)\n",
    "\n",
    "    return f1"
   ]
  },
  {
   "cell_type": "code",
   "execution_count": 9,
   "metadata": {},
   "outputs": [],
   "source": [
    "def classes(y_true,y_pred):\n",
    "    tp = np.sum(y_true * y_pred)\n",
    "    return tp"
   ]
  },
  {
   "cell_type": "code",
   "execution_count": null,
   "metadata": {},
   "outputs": [],
   "source": []
  },
  {
   "cell_type": "code",
   "execution_count": 16,
   "metadata": {},
   "outputs": [
    {
     "name": "stderr",
     "output_type": "stream",
     "text": [
      "C:\\Users\\paulz\\AppData\\Local\\Temp\\ipykernel_10840\\1823143704.py:15: RuntimeWarning: invalid value encountered in scalar divide\n",
      "  f1 = (2*precision*recall)/(precision+recall)\n"
     ]
    }
   ],
   "source": [
    "size = (512,512)\n",
    "f1_array_images,tp1 = evaluation('images',size)\n",
    "\n",
    "f1_array_kirsch = evaluation('images_kirsch',size)\n",
    "f1_array_prewitt = evaluation('images_prewitt',size)\n",
    "f1_array_sobel = evaluation('images_sobel',size)"
   ]
  },
  {
   "cell_type": "code",
   "execution_count": 17,
   "metadata": {},
   "outputs": [
    {
     "name": "stdout",
     "output_type": "stream",
     "text": [
      "[779.0, 2616.0, 644.0, 4784.0, 6032.0, 1586.0, 3297.0, 5091.0, 2763.0, 8239.0, 2145.0, 1164.0, 2923.0, 1852.0, 1810.0, 2876.0, 1685.0, 5378.0, 791.0, 6270.0, 2142.0, 2808.0, 146.0, 4072.0, 1116.0, 3183.0, 4797.0, 1256.0, 4159.0, 2090.0, 2704.0, 738.0, 3343.0, 6190.0, 1303.0, 7066.0, 1004.0, 3103.0, 3485.0, 3638.0, 2494.0, 1811.0, 3715.0, 854.0, 3291.0, 2893.0, 1131.0, 856.0, 1090.0, 959.0, 1760.0, 1707.0, 3271.0, 2595.0, 943.0, 4742.0, 3974.0, 4289.0, 619.0, 678.0, 4449.0, 1078.0, 5623.0, 954.0, 4348.0, 598.0, 3555.0, 958.0, 4440.0, 1508.0, 504.0, 1733.0, 3842.0, 1838.0, 2134.0, 903.0, 2207.0, 381.0, 1456.0, 4595.0, 2748.0, 1644.0, 1065.0, 1568.0, 1197.0, 2297.0, 4286.0, 1187.0, 2716.0, 835.0, 926.0, 2266.0, 579.0, 2428.0, 1936.0, 3449.0, 1264.0, 1701.0, 951.0, 740.0, 2262.0, 3593.0, 1184.0, 935.0, 996.0, 3080.0, 2578.0, 2406.0, 803.0, 3732.0, 3827.0, 869.0, 84.0, 1970.0, 390.0, 2026.0, 907.0, 2292.0, 1337.0, 1814.0, 1424.0, 0.0, 2351.0, 5930.0, 2378.0, 1891.0, 2768.0, 847.0, 1736.0, 2339.0, 2060.0, 2624.0, 2236.0, 4890.0, 1490.0, 3065.0, 2387.0, 4289.0, 2501.0, 1292.0, 2643.0, 1146.0, 3063.0, 2095.0, 865.0, 4675.0, 1302.0, 2663.0, 3596.0, 2369.0, 3690.0, 1787.0, 1352.0, 828.0, 1244.0, 1798.0, 6668.0, 1556.0, 1732.0, 510.0, 1891.0, 1506.0, 4641.0, 494.0, 623.0, 992.0, 1406.0, 2763.0, 448.0, 1190.0, 3653.0, 2249.0, 3091.0, 427.0, 1017.0, 719.0, 1566.0, 2103.0, 1676.0, 2460.0, 3091.0, 3042.0, 1885.0, 3765.0, 960.0, 1373.0, 423.0, 2185.0, 724.0, 1274.0, 1311.0, 1871.0, 1131.0, 1426.0, 2360.0, 1821.0, 1925.0, 387.0, 1226.0, 1015.0, 2197.0, 2227.0, 2627.0, 1162.0, 1082.0, 3390.0, 323.0, 840.0, 895.0, 1127.0, 2128.0, 4594.0, 1246.0, 2013.0, 2353.0, 4017.0, 3976.0, 2538.0, 374.0, 2172.0, 2450.0, 1170.0, 1773.0, 3384.0, 4094.0, 2644.0, 1315.0, 3020.0, 3344.0, 2461.0, 4734.0, 1941.0, 5494.0, 862.0, 31.0, 923.0, 4355.0, 3005.0, 375.0, 2834.0, 2375.0, 108.0, 676.0, 1453.0, 3757.0, 3060.0, 1638.0, 643.0, 1958.0, 752.0, 1589.0, 1168.0, 2514.0, 1984.0, 1473.0, 2826.0, 1350.0, 3447.0, 3357.0, 1192.0, 2519.0, 2320.0, 4009.0, 1353.0, 2864.0, 2097.0, 1848.0, 1590.0, 2358.0, 1440.0, 685.0, 1864.0, 2009.0, 1936.0, 7018.0, 1034.0, 2683.0, 4252.0, 840.0, 3619.0, 4707.0, 3354.0, 2952.0, 1785.0, 1796.0, 545.0, 3982.0, 4119.0, 5804.0, 1448.0, 6738.0, 3237.0, 3011.0, 1350.0, 4623.0, 1101.0, 6061.0, 4337.0, 3243.0, 3995.0]\n"
     ]
    }
   ],
   "source": [
    "print(tp1)"
   ]
  },
  {
   "cell_type": "code",
   "execution_count": 11,
   "metadata": {},
   "outputs": [
    {
     "name": "stdout",
     "output_type": "stream",
     "text": [
      "0.1815468352176008\n"
     ]
    }
   ],
   "source": [
    "print(f1_array_images[275])"
   ]
  },
  {
   "cell_type": "code",
   "execution_count": 241,
   "metadata": {},
   "outputs": [
    {
     "name": "stdout",
     "output_type": "stream",
     "text": [
      "0.14178498985513616\n"
     ]
    }
   ],
   "source": [
    "print(f1_array_kirsch[275])"
   ]
  },
  {
   "cell_type": "code",
   "execution_count": 242,
   "metadata": {},
   "outputs": [
    {
     "name": "stdout",
     "output_type": "stream",
     "text": [
      "0.08942587529606798\n"
     ]
    }
   ],
   "source": [
    "print(f1_array_prewitt[275])"
   ]
  },
  {
   "cell_type": "code",
   "execution_count": 243,
   "metadata": {},
   "outputs": [
    {
     "name": "stdout",
     "output_type": "stream",
     "text": [
      "0.021514949179887003\n"
     ]
    }
   ],
   "source": [
    "print(f1_array_sobel[275])"
   ]
  },
  {
   "cell_type": "code",
   "execution_count": 244,
   "metadata": {},
   "outputs": [
    {
     "name": "stdout",
     "output_type": "stream",
     "text": [
      "Mean F1 Images:\n",
      "0.2784505096178147\n",
      "Mean F1 Kirsch:\n",
      "0.2945855749344018\n",
      "Mean F1 Prewitt:\n",
      "0.2531162193535608\n",
      "Mean F1 Sobel:\n",
      "0.2474583252468626\n"
     ]
    }
   ],
   "source": [
    "mean_f1_images = np.mean(f1_array_images)\n",
    "print(\"Mean F1 Images:\")\n",
    "print(mean_f1_images)\n",
    "\n",
    "mean_f1_kirsch = np.mean(f1_array_kirsch)\n",
    "print(\"Mean F1 Kirsch:\")\n",
    "print(mean_f1_kirsch)\n",
    "\n",
    "mean_f1_prewitt = np.mean(f1_array_prewitt)\n",
    "print(\"Mean F1 Prewitt:\")\n",
    "print(mean_f1_prewitt)\n",
    "\n",
    "mean_f1_sobel = np.mean(f1_array_sobel)\n",
    "print(\"Mean F1 Sobel:\")\n",
    "print(mean_f1_sobel)"
   ]
  },
  {
   "cell_type": "code",
   "execution_count": 237,
   "metadata": {},
   "outputs": [],
   "source": [
    "def histogram(array,name):\n",
    "    plt.hist(array,bins=50,color='blue',edgecolor='black')\n",
    "\n",
    "    plt.xlabel(\"F1 Score\")\n",
    "    plt.ylabel('Number of images')\n",
    "    plt.title('Histogram ' + name)\n"
   ]
  },
  {
   "cell_type": "code",
   "execution_count": null,
   "metadata": {},
   "outputs": [],
   "source": [
    "histogram(f1_array_images, 'Images')"
   ]
  },
  {
   "cell_type": "code",
   "execution_count": null,
   "metadata": {},
   "outputs": [],
   "source": [
    "histogram(f1_array_kirsch, 'Kirsch')"
   ]
  },
  {
   "cell_type": "code",
   "execution_count": null,
   "metadata": {},
   "outputs": [],
   "source": [
    "histogram(f1_array_prewitt, 'Prewitt')"
   ]
  },
  {
   "cell_type": "code",
   "execution_count": null,
   "metadata": {},
   "outputs": [],
   "source": [
    "histogram(f1_array_sobel, 'Sobel')"
   ]
  },
  {
   "cell_type": "code",
   "execution_count": 195,
   "metadata": {},
   "outputs": [
    {
     "name": "stdout",
     "output_type": "stream",
     "text": [
      "0.12751333423851227\n",
      "0.21067298735669313\n",
      "0.30636933776937264\n"
     ]
    }
   ],
   "source": [
    "#Quartilsabstände\n",
    "\n",
    "Q1_images = np.percentile(f1_array_images,25)\n",
    "print(Q1_images)\n",
    "Q2_images = np.percentile(f1_array_images,50)\n",
    "print(Q2_images)\n",
    "Q3_images = np.percentile(f1_array_images,75)\n",
    "print(Q3_images)"
   ]
  },
  {
   "cell_type": "code",
   "execution_count": 114,
   "metadata": {},
   "outputs": [
    {
     "name": "stdout",
     "output_type": "stream",
     "text": [
      "0.14436851971031145\n",
      "0.22230491721411866\n",
      "0.327990779398541\n"
     ]
    }
   ],
   "source": [
    "#Quartilsabstände\n",
    "\n",
    "Q1_Kirsch = np.percentile(f1_array_kirsch,25)\n",
    "print(Q1_Kirsch)\n",
    "Q2_Kirsch = np.percentile(f1_array_kirsch,50)\n",
    "print(Q2_Kirsch)\n",
    "Q3_Kirsch = np.percentile(f1_array_kirsch,75)\n",
    "print(Q3_Kirsch)"
   ]
  },
  {
   "cell_type": "code",
   "execution_count": 115,
   "metadata": {},
   "outputs": [
    {
     "name": "stdout",
     "output_type": "stream",
     "text": [
      "0.11436395627915102\n",
      "0.1917097144579457\n",
      "0.27525590624065444\n"
     ]
    }
   ],
   "source": [
    "#Quartilsabstände\n",
    "\n",
    "Q1_Prewitt = np.percentile(f1_array_prewitt,25)\n",
    "print(Q1_Prewitt)\n",
    "Q2_Prewitt = np.percentile(f1_array_prewitt,50)\n",
    "print(Q2_Prewitt)\n",
    "Q3_Prewitt = np.percentile(f1_array_prewitt,75)\n",
    "print(Q3_Prewitt)"
   ]
  },
  {
   "cell_type": "code",
   "execution_count": 116,
   "metadata": {},
   "outputs": [
    {
     "name": "stdout",
     "output_type": "stream",
     "text": [
      "0.11321367241374333\n",
      "0.18023293210103136\n",
      "0.2689933902545954\n"
     ]
    }
   ],
   "source": [
    "#Quartilsabstände\n",
    "\n",
    "Q1_Sobel = np.percentile(f1_array_sobel,25)\n",
    "print(Q1_Sobel)\n",
    "Q2_Sobel = np.percentile(f1_array_sobel,50)\n",
    "print(Q2_Sobel)\n",
    "Q3_Sobel = np.percentile(f1_array_sobel,75)\n",
    "print(Q3_Sobel)"
   ]
  },
  {
   "cell_type": "code",
   "execution_count": 245,
   "metadata": {},
   "outputs": [
    {
     "name": "stdout",
     "output_type": "stream",
     "text": [
      "[180  51 246 231 223 145  27 225  29 276   8 194  78 172 289  95  21 263\n",
      " 101 296  25 162 293 224  16  63 137 257  74 187 297 107 249   7 221 275\n",
      " 170 122 160 175 272  91 233 279  80 228  38   9 291  62 181 254 227 217\n",
      " 119 269  34   6 148 264 258 126  32 214 179 155 189  50  61 165  97  88\n",
      " 118 277 104 281  86 259 260 190   4 251 195 283  10 123 196  14 266 280\n",
      " 149 213 206 210 229 220 239 140 294 109  42  92 150  82 188 125 211 157\n",
      " 274 133 108 298 161  64 241 156 113   5 207  26  98 177  55 121 219 232\n",
      "  53 261  69 185  18 248  33  67 271  52  37 166  24 158  11  19 245 282\n",
      " 103 110 236 183 230 171 208 215  57  94   3 144 237 131 286 287 216 191\n",
      " 143 290  56  15  48  72 244 205  23 288  77  83 139 134 226  93  79 267\n",
      "  49  28 222  76 112  47   1 295  31 153 136 142  59 256  20 141  71 138\n",
      "  68 128  85 240  46  17 129 250  30 200 154 278 106 299 209  36  44 268\n",
      " 178 174 173 253 176  70 120 100 186 270  81 285 102 242 146  54 212 152\n",
      " 115 135 114 117  41 243 182  40  89 169 164  73 202  12 284 204  45 203\n",
      "  13 105 273  35 265 199 116  90 198  96 151  60 192 193 132 127 247 262\n",
      " 184 238 218 292 255 147 168 130  84 201 235  39 197 167 163  75   2 124\n",
      "  87  66  43 159  58  65   0 111  99 252 234  22]\n",
      "[-0.42797589 -0.39767036 -0.28165266 -0.26110405 -0.24756438 -0.24742341\n",
      " -0.24704775 -0.22539671 -0.22512564 -0.22452893 -0.22425797 -0.21712579\n",
      " -0.21712321 -0.21590533 -0.21349876 -0.21152916 -0.20919842 -0.20521766\n",
      " -0.20196712 -0.19519979 -0.19392095 -0.19124287 -0.18942221 -0.18655766\n",
      " -0.186423   -0.18323607 -0.18003858 -0.17831345 -0.1768829  -0.17653125\n",
      " -0.17375003 -0.17057312 -0.17002646 -0.16385721 -0.16211116 -0.16003189\n",
      " -0.15999173 -0.15773973 -0.15692872 -0.15595249 -0.1545148  -0.15432897\n",
      " -0.15336714 -0.15314209 -0.1512756  -0.14855701 -0.14386807 -0.14345191\n",
      " -0.13806138 -0.13626885 -0.13570887 -0.13438713 -0.1333722  -0.13330191\n",
      " -0.13301919 -0.13228756 -0.13074583 -0.12621714 -0.12620181 -0.12599145\n",
      " -0.12573066 -0.12558558 -0.12488811 -0.12444687 -0.12284975 -0.12277586\n",
      " -0.1225237  -0.12199808 -0.12178655 -0.12042818 -0.12031987 -0.11880589\n",
      " -0.11777344 -0.11774659 -0.11738198 -0.11731328 -0.11672719 -0.11307271\n",
      " -0.11297534 -0.11201904 -0.11131548 -0.11084647 -0.110407   -0.10994468\n",
      " -0.10948238 -0.1078359  -0.10775833 -0.10773578 -0.10773006 -0.10752375\n",
      " -0.10682536 -0.10586537 -0.10567067 -0.10484251 -0.10429999 -0.1037998\n",
      " -0.10355337 -0.10298124 -0.10243456 -0.10177979 -0.10124885 -0.10061578\n",
      " -0.09942236 -0.09921894 -0.09875477 -0.09857642 -0.09781793 -0.09698799\n",
      " -0.09625101 -0.0961483  -0.09557421 -0.09508742 -0.09360485 -0.09290669\n",
      " -0.09276691 -0.0926045  -0.09229685 -0.09129053 -0.09109685 -0.09073625\n",
      " -0.09065926 -0.09061151 -0.08976313 -0.08891712 -0.08871468 -0.08802368\n",
      " -0.08789112 -0.08774561 -0.08740338 -0.08609364 -0.085807   -0.08579898\n",
      " -0.08558    -0.08545124 -0.08533136 -0.08522336 -0.0844409  -0.08398656\n",
      " -0.08390282 -0.08363152 -0.08324786 -0.08309127 -0.08302463 -0.08298314\n",
      " -0.08174937 -0.08120827 -0.08073865 -0.08018487 -0.07980224 -0.07941505\n",
      " -0.07911879 -0.07868629 -0.07851454 -0.07838496 -0.07831612 -0.07829173\n",
      " -0.07801076 -0.07778673 -0.07756977 -0.07743555 -0.07729835 -0.0768808\n",
      " -0.07610513 -0.07588017 -0.07577543 -0.07492502 -0.07491071 -0.07467961\n",
      " -0.07450647 -0.07450132 -0.07448665 -0.07426403 -0.07388142 -0.07387881\n",
      " -0.07277673 -0.07252563 -0.07219544 -0.07184741 -0.07147866 -0.07095326\n",
      " -0.07026993 -0.07024046 -0.06991133 -0.06966865 -0.06946677 -0.06945944\n",
      " -0.06879331 -0.0686337  -0.06782124 -0.06752033 -0.06740163 -0.06734046\n",
      " -0.06720515 -0.06589588 -0.06557185 -0.0654028  -0.06538563 -0.06529489\n",
      " -0.06432652 -0.06409112 -0.0633138  -0.06331294 -0.06278494 -0.06277463\n",
      " -0.06263293 -0.06257905 -0.06172664 -0.06130929 -0.06063751 -0.06020795\n",
      " -0.06009083 -0.0585602  -0.05772803 -0.05768811 -0.05761405 -0.05713197\n",
      " -0.05657297 -0.05583327 -0.05546872 -0.05540172 -0.05533589 -0.05530142\n",
      " -0.05519659 -0.05434882 -0.05422965 -0.05394799 -0.05382801 -0.05090777\n",
      " -0.05065942 -0.0504783  -0.05032627 -0.04973833 -0.04965684 -0.04840384\n",
      " -0.04820433 -0.04806021 -0.04784853 -0.0477121  -0.04726024 -0.04636756\n",
      " -0.04599077 -0.04510944 -0.04500416 -0.04492609 -0.04470872 -0.04441155\n",
      " -0.04436651 -0.04410539 -0.0439904  -0.04376853 -0.04359275 -0.04353307\n",
      " -0.0433027  -0.04321967 -0.04228831 -0.04223731 -0.04200694 -0.0419997\n",
      " -0.04076357 -0.04029638 -0.03974876 -0.03955315 -0.0386512  -0.03724998\n",
      " -0.03646936 -0.03323131 -0.03256003 -0.03178807 -0.03066205 -0.03017057\n",
      " -0.03010106 -0.02957538 -0.02947117 -0.02892683 -0.02845333 -0.02799328\n",
      " -0.02798409 -0.02695962 -0.02643152 -0.02615048 -0.02553228 -0.02468322\n",
      " -0.02458384 -0.02337162 -0.02133529 -0.02090486 -0.0207193  -0.01937008\n",
      " -0.01765901 -0.0164635  -0.01557863 -0.01526454 -0.0149019  -0.01178735\n",
      " -0.011547   -0.01062839 -0.00901631 -0.00770437 -0.00678721 -0.00527679]\n"
     ]
    }
   ],
   "source": [
    "#Größte Unterschiede\n",
    "\n",
    "full_array = np.zeros(300)\n",
    "for i in range(len(f1_array_kirsch)):\n",
    "    distances = np.zeros(7)\n",
    "    distances[0] = np.abs(f1_array_images[i] - f1_array_kirsch[i])\n",
    "    distances[1] = np.abs(f1_array_images[i] - f1_array_prewitt[i])\n",
    "    distances[2] = np.abs(f1_array_images[i] - f1_array_sobel[i])\n",
    "\n",
    "    distances[3] = np.abs(f1_array_kirsch[i] - f1_array_prewitt[i])\n",
    "    distances[4] = np.abs(f1_array_kirsch[i] - f1_array_sobel[i])\n",
    "        \n",
    "    distances[5] = np.abs(f1_array_prewitt[i] - f1_array_sobel[i]) \n",
    "\n",
    "    distances[6] = i\n",
    "\n",
    "    \n",
    "    full_array[i] = np.max(distances[0:5])\n",
    "\n",
    "#sorted_array = np.sort(sorted_array)[::-1]\n",
    "print(np.argsort(-full_array))\n",
    "print(np.sort(-full_array))\n",
    "\n",
    "    "
   ]
  },
  {
   "cell_type": "code",
   "execution_count": 208,
   "metadata": {},
   "outputs": [
    {
     "name": "stdout",
     "output_type": "stream",
     "text": [
      "[274 181 156 277   3 279  35 236 180  23  17  19  25 211  26 237 232 230\n",
      " 123 257   7 224 288 225 291   4 223   8  33 276]\n",
      "[0.71827921 0.67909503 0.67264744 0.6484458  0.63812507 0.62847865\n",
      " 0.61890707 0.61280112 0.61125954 0.60031154 0.59419881 0.59248587\n",
      " 0.57670597 0.56395669 0.55611173 0.55039606 0.54760748 0.54380361\n",
      " 0.53978551 0.53210016 0.52781376 0.52652046 0.5259074  0.52342148\n",
      " 0.52228932 0.50191719 0.50189411 0.49426688 0.48613237 0.48169659]\n"
     ]
    }
   ],
   "source": [
    "#Get max values and image ids\n",
    "max_images = np.argsort(-f1_array_images)\n",
    "print(max_images[:30])\n",
    "print(f1_array_images[max_images[:30]])"
   ]
  },
  {
   "cell_type": "code",
   "execution_count": 209,
   "metadata": {},
   "outputs": [
    {
     "name": "stdout",
     "output_type": "stream",
     "text": [
      "[156 223 274 279 211  35   7 276 224 232   3 296 122   4 123 236  26 162\n",
      "  25 230 277 258  23  95  19 170 291 181  17  33]\n",
      "[0.70244311 0.69449412 0.68683976 0.66893182 0.66153321 0.66083994\n",
      " 0.6494095  0.64271008 0.62691125 0.62312667 0.6216519  0.61961446\n",
      " 0.61380718 0.61301305 0.60458059 0.59653967 0.58886691 0.58687024\n",
      " 0.58432822 0.58181686 0.57452568 0.5683013  0.56308274 0.56066261\n",
      " 0.5592598  0.54721988 0.54502131 0.54499474 0.54498484 0.54272869]\n"
     ]
    }
   ],
   "source": [
    "#Get max values and image ids\n",
    "max_kirsch = np.argsort(-f1_array_kirsch)\n",
    "print(max_kirsch[:30])\n",
    "print(f1_array_kirsch[max_kirsch[:30]])"
   ]
  },
  {
   "cell_type": "code",
   "execution_count": 210,
   "metadata": {},
   "outputs": [
    {
     "name": "stdout",
     "output_type": "stream",
     "text": [
      "[274 156 236 181  35 223  17   4 232  19 211 277   3 258  26 257  23 296\n",
      " 230 123 279   7 122  33 264 290 255  66 237 225]\n",
      "[0.78283171 0.7319545  0.6780907  0.64753009 0.64569934 0.61558626\n",
      " 0.60821091 0.60818164 0.60054114 0.58072031 0.57424369 0.5664822\n",
      " 0.56026112 0.55026218 0.54827675 0.53748641 0.52561786 0.52401256\n",
      " 0.52353219 0.52235605 0.51748977 0.51619561 0.51112107 0.50951659\n",
      " 0.50915875 0.49606655 0.48340141 0.47554561 0.47306877 0.47245995]\n"
     ]
    }
   ],
   "source": [
    "#Get max values and image ids\n",
    "max_prewitt = np.argsort(-f1_array_prewitt)\n",
    "print(max_prewitt[:30])\n",
    "print(f1_array_prewitt[max_prewitt[:30]])"
   ]
  },
  {
   "cell_type": "code",
   "execution_count": 211,
   "metadata": {},
   "outputs": [
    {
     "name": "stdout",
     "output_type": "stream",
     "text": [
      "[274  35 279 211 236 122 156  23   3   4 296 258  17 280 181 232 277 237\n",
      "  19 224 230  26 123 216   7 288 183  86 290 255]\n",
      "[0.73223565 0.63982813 0.63338795 0.63003394 0.61747935 0.61732546\n",
      " 0.61100688 0.59748745 0.58733938 0.58234892 0.58104305 0.57734122\n",
      " 0.56862089 0.56253764 0.56228815 0.53651594 0.53201932 0.51948393\n",
      " 0.50944273 0.5058512  0.50204543 0.49858803 0.49784691 0.49207962\n",
      " 0.4883911  0.48635984 0.47565726 0.46425173 0.46359409 0.46222706]\n"
     ]
    }
   ],
   "source": [
    "#Get max values and image ids\n",
    "max_sobel = np.argsort(-f1_array_sobel)\n",
    "print(max_sobel[:30])\n",
    "print(f1_array_sobel[max_sobel[:30]])"
   ]
  }
 ],
 "metadata": {
  "kernelspec": {
   "display_name": "Python 3",
   "language": "python",
   "name": "python3"
  },
  "language_info": {
   "codemirror_mode": {
    "name": "ipython",
    "version": 3
   },
   "file_extension": ".py",
   "mimetype": "text/x-python",
   "name": "python",
   "nbconvert_exporter": "python",
   "pygments_lexer": "ipython3",
   "version": "3.11.3"
  }
 },
 "nbformat": 4,
 "nbformat_minor": 2
}
